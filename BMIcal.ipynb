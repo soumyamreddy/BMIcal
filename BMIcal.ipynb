{
 "cells": [
  {
   "cell_type": "code",
   "execution_count": 7,
   "id": "341e6d57",
   "metadata": {},
   "outputs": [
    {
     "ename": "FileNotFoundError",
     "evalue": "[Errno 2] No such file or directory: 'output.csv'",
     "output_type": "error",
     "traceback": [
      "\u001b[1;31m---------------------------------------------------------------------------\u001b[0m",
      "\u001b[1;31mFileNotFoundError\u001b[0m                         Traceback (most recent call last)",
      "\u001b[1;32m~\\AppData\\Local\\Temp/ipykernel_3124/285436466.py\u001b[0m in \u001b[0;36m<module>\u001b[1;34m\u001b[0m\n\u001b[0;32m     52\u001b[0m \u001b[1;32mif\u001b[0m \u001b[0m__name__\u001b[0m \u001b[1;33m==\u001b[0m \u001b[1;34m'__main__'\u001b[0m\u001b[1;33m:\u001b[0m\u001b[1;33m\u001b[0m\u001b[1;33m\u001b[0m\u001b[0m\n\u001b[0;32m     53\u001b[0m     \u001b[0mcontents\u001b[0m \u001b[1;33m=\u001b[0m \u001b[0mread_contents\u001b[0m\u001b[1;33m(\u001b[0m\u001b[1;33m)\u001b[0m\u001b[1;33m\u001b[0m\u001b[1;33m\u001b[0m\u001b[0m\n\u001b[1;32m---> 54\u001b[1;33m     \u001b[0mresult\u001b[0m \u001b[1;33m=\u001b[0m \u001b[0mwrite_csv\u001b[0m\u001b[1;33m(\u001b[0m\u001b[0mcontents\u001b[0m\u001b[1;33m)\u001b[0m\u001b[1;33m\u001b[0m\u001b[1;33m\u001b[0m\u001b[0m\n\u001b[0m\u001b[0;32m     55\u001b[0m     \u001b[0mprint\u001b[0m\u001b[1;33m(\u001b[0m\u001b[0mresult\u001b[0m\u001b[1;33m)\u001b[0m\u001b[1;33m\u001b[0m\u001b[1;33m\u001b[0m\u001b[0m\n",
      "\u001b[1;32m~\\AppData\\Local\\Temp/ipykernel_3124/285436466.py\u001b[0m in \u001b[0;36mwrite_csv\u001b[1;34m(data)\u001b[0m\n\u001b[0;32m     44\u001b[0m \u001b[1;33m\u001b[0m\u001b[0m\n\u001b[0;32m     45\u001b[0m \u001b[1;32mdef\u001b[0m \u001b[0mwrite_csv\u001b[0m\u001b[1;33m(\u001b[0m\u001b[0mdata\u001b[0m\u001b[1;33m)\u001b[0m\u001b[1;33m:\u001b[0m\u001b[1;33m\u001b[0m\u001b[1;33m\u001b[0m\u001b[0m\n\u001b[1;32m---> 46\u001b[1;33m     \u001b[1;32mwith\u001b[0m \u001b[0mopen\u001b[0m\u001b[1;33m(\u001b[0m\u001b[1;34m'output.csv'\u001b[0m\u001b[1;33m)\u001b[0m \u001b[1;32mas\u001b[0m \u001b[0mfile\u001b[0m\u001b[1;33m:\u001b[0m\u001b[1;33m\u001b[0m\u001b[1;33m\u001b[0m\u001b[0m\n\u001b[0m\u001b[0;32m     47\u001b[0m         \u001b[0mcsv_data\u001b[0m \u001b[1;33m=\u001b[0m \u001b[0mcsv\u001b[0m\u001b[1;33m.\u001b[0m\u001b[0mwriter\u001b[0m\u001b[1;33m(\u001b[0m\u001b[0mfile\u001b[0m\u001b[1;33m,\u001b[0m \u001b[0mdelimiter\u001b[0m\u001b[1;33m=\u001b[0m\u001b[1;34m','\u001b[0m\u001b[1;33m)\u001b[0m\u001b[1;33m\u001b[0m\u001b[1;33m\u001b[0m\u001b[0m\n\u001b[0;32m     48\u001b[0m         \u001b[0mcsv_data\u001b[0m\u001b[1;33m.\u001b[0m\u001b[0mwriterow\u001b[0m\u001b[1;33m(\u001b[0m\u001b[1;33m[\u001b[0m\u001b[1;34m'Gender'\u001b[0m\u001b[1;33m,\u001b[0m \u001b[1;34m'Height'\u001b[0m\u001b[1;33m,\u001b[0m \u001b[1;34m'Weight'\u001b[0m\u001b[1;33m,\u001b[0m \u001b[1;34m'BMI_categoty'\u001b[0m\u001b[1;33m,\u001b[0m \u001b[1;34m'BMI_range'\u001b[0m\u001b[1;33m,\u001b[0m \u001b[1;34m'Health_risk'\u001b[0m\u001b[1;33m]\u001b[0m\u001b[1;33m)\u001b[0m\u001b[1;33m\u001b[0m\u001b[1;33m\u001b[0m\u001b[0m\n",
      "\u001b[1;31mFileNotFoundError\u001b[0m: [Errno 2] No such file or directory: 'output.csv'"
     ]
    }
   ],
   "source": [
    "import csv\n",
    "\n",
    "class BMI:\n",
    "    bmi_categoty ={'Underweight','Normal Weight','Over Weight','Moderately obese','Severly obese','Very Severly obese'}\n",
    "    health_risk = {'Malnutrition Risk','Low Risk','Enhanced Risk','Medium Risk','High Risk','Very High Risk'}\n",
    "def read_contents():\n",
    "    row_list = [ ]\n",
    "    with open('BMI data.csv') as file:\n",
    "        records = csv.reader(file)\n",
    "        for row in records : row_list.append(row)\n",
    "        return row_list\n",
    "def bmical(data):\n",
    "    h =int(data[1])\n",
    "    w = int(data[2])\n",
    "    bmi = w/((h/100)**2)\n",
    "    if bmi <= 18.4 :\n",
    "        BMI_categoty = BMI.bmi_categoty.get('Underweight')\n",
    "        BMI_range = bmi\n",
    "        Health_risk = BMI.health_risk.get('Malnutrition Risk')\n",
    "    elif bmi >=18.5 and bmi <= 24.9:\n",
    "        BMI_categoty = BMI.bmi_categoty.get('Normal Weight')\n",
    "        BMI_range = bmi\n",
    "        Health_risk = BMI.health_risk.get('Low Risk')\n",
    "    elif bmi >=25 and bmi <= 29.9:\n",
    "        BMI_categoty = BMI.bmi_categoty.get(\"Over Weight\")\n",
    "        BMI_range = bmi\n",
    "        Health_risk = BMI.health_risk.get('Enhanced Risk')\n",
    "    elif bmi >=30 and bmi <= 34.9:\n",
    "        BMI_categoty = BMI.bmi_categoty.get(\"Moderately obese\")\n",
    "        BMI_range = bmi\n",
    "        Health_risk = BMI.health_risk.get('Medium Risk')\n",
    "    elif bmi >= 35 and bmi <= 39.9:\n",
    "        BMI_categoty = BMI.bmi_categoty.get(\"Severly obese\")\n",
    "        BMI_range = bmi\n",
    "        Health_risk = BMI.health_risk.get('High Risk')\n",
    "    elif bmi > 40:\n",
    "        BMI_categoty = BMI.bmi_categoty.get(\"Very Severly obese\")\n",
    "        BMI_range = bmi\n",
    "        Health_risk = BMI.health_risk.get('Very High Risk')\n",
    "    bmi_list =[BMI_categoty,BMI_range,Health_risk]\n",
    "    return bmi_list\n",
    "def write_csv(data):\n",
    "    with open('output.csv') as file:\n",
    "        csv_data = csv.writer(file, delimiter=',')\n",
    "        csv_data.writerow(['Gender', 'Height', 'Weight', 'BMI_categoty', 'BMI_range', 'Health_risk'])\n",
    "        for row in data : csv_data.writerows([row])\n",
    "    return 'file added'\n",
    "if __name__ == '__main__':\n",
    "    contents = read_contents()\n",
    "    result = write_csv(contents)\n",
    "    print(result)"
   ]
  },
  {
   "cell_type": "code",
   "execution_count": null,
   "id": "dfc9e816",
   "metadata": {},
   "outputs": [],
   "source": []
  },
  {
   "cell_type": "code",
   "execution_count": null,
   "id": "a5787915",
   "metadata": {},
   "outputs": [],
   "source": []
  }
 ],
 "metadata": {
  "kernelspec": {
   "display_name": "Python 3 (ipykernel)",
   "language": "python",
   "name": "python3"
  },
  "language_info": {
   "codemirror_mode": {
    "name": "ipython",
    "version": 3
   },
   "file_extension": ".py",
   "mimetype": "text/x-python",
   "name": "python",
   "nbconvert_exporter": "python",
   "pygments_lexer": "ipython3",
   "version": "3.9.7"
  }
 },
 "nbformat": 4,
 "nbformat_minor": 5
}
